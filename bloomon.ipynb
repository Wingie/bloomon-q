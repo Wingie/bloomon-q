{
  "nbformat": 4,
  "nbformat_minor": 0,
  "metadata": {
    "colab": {
      "name": "bloomon.ipynb",
      "provenance": [],
      "collapsed_sections": [],
      "authorship_tag": "ABX9TyPAnLTKXIvd6cva2nXUI7Ez",
      "include_colab_link": true
    },
    "kernelspec": {
      "name": "python3",
      "display_name": "Python 3"
    }
  },
  "cells": [
    {
      "cell_type": "markdown",
      "metadata": {
        "id": "view-in-github",
        "colab_type": "text"
      },
      "source": [
        "<a href=\"https://colab.research.google.com/github/Wingie/bloomon-q/blob/master/bloomon.ipynb\" target=\"_parent\"><img src=\"https://colab.research.google.com/assets/colab-badge.svg\" alt=\"Open In Colab\"/></a>"
      ]
    },
    {
      "cell_type": "code",
      "metadata": {
        "id": "DVdxkEmbiH-L",
        "colab_type": "code",
        "colab": {
          "base_uri": "https://localhost:8080/",
          "height": 151
        },
        "outputId": "d948046e-f248-4a49-b64e-2c4bb0128243"
      },
      "source": [
        "!unzip /content/code-challange.zip -d /content/\n"
      ],
      "execution_count": null,
      "outputs": [
        {
          "output_type": "stream",
          "text": [
            "Archive:  /content/code-challange.zip\n",
            "   creating: /content/code-challange/\n",
            "  inflating: /content/code-challange/requirements.pdf  \n",
            "   creating: /content/__MACOSX/\n",
            "   creating: /content/__MACOSX/code-challange/\n",
            "  inflating: /content/__MACOSX/code-challange/._requirements.pdf  \n",
            "  inflating: /content/code-challange/sample.txt  \n",
            "  inflating: /content/__MACOSX/code-challange/._sample.txt  \n"
          ],
          "name": "stdout"
        }
      ]
    },
    {
      "cell_type": "code",
      "metadata": {
        "id": "BJnrffd0i6qn",
        "colab_type": "code",
        "colab": {
          "base_uri": "https://localhost:8080/",
          "height": 34
        },
        "outputId": "53bda6a8-2bf8-42b7-ddcc-8902f76c55e8"
      },
      "source": [
        "def read_sample(file=\"/content/code-challange/sample.txt\"):\n",
        "  with open(file) as f:\n",
        "    return [r.strip() for r in f.readlines()]\n",
        "\n",
        "sample = read_sample()\n",
        "blank = sample.index('')\n",
        "designs = sample[:blank]\n",
        "flower_stream = sample[blank+1:]\n",
        "print(designs,len(designs),flower_stream[:10])"
      ],
      "execution_count": null,
      "outputs": [
        {
          "output_type": "stream",
          "text": [
            "['AL10a15b5c30', 'AS10a10b25', 'BL15b1c21', 'BS10b5c16', 'CL20a15c45', 'DL20b28'] 6 ['cL', 'bL', 'aS', 'aS', 'cL', 'cL', 'cS', 'aS', 'cS', 'aS']\n"
          ],
          "name": "stdout"
        }
      ]
    },
    {
      "cell_type": "code",
      "metadata": {
        "id": "pkWBvN954olg",
        "colab_type": "code",
        "colab": {
          "base_uri": "https://localhost:8080/",
          "height": 34
        },
        "outputId": "5ca374c4-ec8a-4db6-f1a1-98e6ddf2814e"
      },
      "source": [
        "import re\n",
        "import collections,itertools\n",
        "\n",
        "class FlowerCounter(collections.Counter):\n",
        "  def subtract(self, other=None, **kwds):\n",
        "    \"original subtract function didn't handle negatives properly\"\n",
        "    remaining_keys = ([i  for i in other.keys() if i not in self.keys()])\n",
        "    res = FlowerCounter()\n",
        "    for k in self:\n",
        "      res[k] = (self[k] - other[k])\n",
        "      for k in remaining_keys:\n",
        "        res[k] = -other[k]\n",
        "    return res\n",
        "  def __str__(self):\n",
        "    return str(sorted(list(self.items())))\n",
        "\n",
        "# mini test case \\o\\\n",
        "small_pile = FlowerCounter(a=1,b=3,c=16,f=9) \n",
        "large_pile = FlowerCounter(a=2,b=3,c=9,k=30) \n",
        "print(large_pile.subtract(small_pile))"
      ],
      "execution_count": null,
      "outputs": [
        {
          "output_type": "stream",
          "text": [
            "[('a', 1), ('b', 0), ('c', -7), ('f', -9), ('k', 30)]\n"
          ],
          "name": "stdout"
        }
      ]
    },
    {
      "cell_type": "code",
      "metadata": {
        "id": "8MLcRzjVjGIS",
        "colab_type": "code",
        "colab": {
          "base_uri": "https://localhost:8080/",
          "height": 54
        },
        "outputId": "fb345c59-ed9d-4ed5-a46e-8f4bd9496bd4"
      },
      "source": [
        "def parse_design(design='AL10a15b5c30'):\n",
        "  b_name = design[0]\n",
        "  b_size = design[1]\n",
        "  res = re.findall(r'(\\d+)(\\w+?)', design[2:])\n",
        "  b_totalflowers = int(''.join(res[-1]))\n",
        "  del res[-1] # bad approach. might not scale but ok for purpose of interview test\n",
        "  flowers = FlowerCounter()\n",
        "  for f in res:\n",
        "    flowers[f[1]] = int(f[0])\n",
        "    \n",
        "  if(sum(flowers.values()) != b_totalflowers): #sly bloomo devs\n",
        "    remaining = (b_totalflowers - sum(flowers.values()))\n",
        "    flowers['*'] = remaining\n",
        "\n",
        "  return (b_name,b_size,flowers)\n",
        "\n",
        "b_designs = [parse_design(d) for d in designs]\n",
        "print(b_designs)\n"
      ],
      "execution_count": null,
      "outputs": [
        {
          "output_type": "stream",
          "text": [
            "[('A', 'L', FlowerCounter({'b': 15, 'a': 10, 'c': 5})), ('A', 'S', FlowerCounter({'a': 10, 'b': 10, '*': 5})), ('B', 'L', FlowerCounter({'b': 15, '*': 5, 'c': 1})), ('B', 'S', FlowerCounter({'b': 10, 'c': 5, '*': 1})), ('C', 'L', FlowerCounter({'a': 20, 'c': 15, '*': 10})), ('D', 'L', FlowerCounter({'b': 20, '*': 8}))]\n"
          ],
          "name": "stdout"
        }
      ]
    },
    {
      "cell_type": "code",
      "metadata": {
        "id": "Azqma-DMlwX6",
        "colab_type": "code",
        "colab": {}
      },
      "source": [
        "\n",
        "def process_flower_bunch(bunch=[],pile={}):\n",
        "  # we will process a bunch of flowers at a time, \n",
        "  # if we give a bundle with bunch_size=1 then  \n",
        "  # this fn will process 1 flower at a time\n",
        "  # print(bunch)\n",
        "  for flwr in bunch:\n",
        "    pile[flwr[1]][flwr[0]] += 1\n",
        "\n",
        "  # print('*start pile is*',pile)\n",
        "  state = {}\n",
        "  keep_running = True\n",
        "  while keep_running:\n",
        "    for des in b_designs:\n",
        "        key = des[1]\n",
        "        if(will_design_fail(des,pile[key])):\n",
        "          #skip as design not possible\n",
        "          state[des[0]] = False\n",
        "          if(not any(state.values()) and len([p for p in pile[key].values() if p < 10]) != 0):\n",
        "            # no designs were possible and a flower type is below 10 so we bail out on this bunch\n",
        "            keep_running = False\n",
        "        else:\n",
        "          before = FlowerCounter(pile[key])\n",
        "          # print('pile-before',before)\n",
        "          pile[key] = process_design(des,pile[key])\n",
        "          after = FlowerCounter(pile[key])\n",
        "          print(get_bouquet_str(des,(before.subtract(after))))\n",
        "          state[des[0]] = True      \n",
        "  return pile\n",
        "\n",
        "\n",
        "def get_bouquet_str(des,bouq):\n",
        "  flwrs = \"\".join([\"{0}{1}\".format(d,bouq[d]) for d in sorted(bouq) if bouq[d]!=0])\n",
        "  return \"{0}{1}{2}\".format(des[0],des[1],flwrs)\n",
        "\n",
        "def will_design_fail(des,pile):\n",
        "  res = pile.subtract(des[2])\n",
        "  # print(des,pile)\n",
        "  if('*' in res.keys()):\n",
        "    cant_make = any([res[r] for r in res if r!='*' and res[r]<0])\n",
        "  else:\n",
        "    cant_make = any([res[r] for r in res if res[r]<0])\n",
        "  return cant_make\n",
        "\n",
        "def process_design(des,pile):\n",
        "  # print('1>>>',pile)\n",
        "  cant_make = will_design_fail(des,pile)\n",
        "  if cant_make:\n",
        "    return pile\n",
        "  res = pile.subtract(des[2])\n",
        "  if('*' in res.keys() and not cant_make):\n",
        "    max_flower = pile.most_common(1)[0][0]\n",
        "    amt =  abs(res['*'])\n",
        "    if(res[max_flower] > amt):\n",
        "      res[max_flower] -= amt\n",
        "      res['*'] = 0\n",
        "  # print('4>>>',res,des)\n",
        "  return res\n",
        "\n"
      ],
      "execution_count": null,
      "outputs": []
    },
    {
      "cell_type": "code",
      "metadata": {
        "id": "PXBaYo87xfUO",
        "colab_type": "code",
        "colab": {
          "base_uri": "https://localhost:8080/",
          "height": 487
        },
        "outputId": "12f5628e-ff6c-4758-e843-2e4c126de346"
      },
      "source": [
        "## actuallu chunk and process file\n",
        "def chunks(lst, n):\n",
        "  for i in range(0, len(lst), n):\n",
        "    yield lst[i:i + n]\n",
        "\n",
        "pile = {'S':FlowerCounter(),'L':FlowerCounter()}\n",
        "for flower_bunch in chunks(flower_stream,2000):\n",
        "  pile = process_flower_bunch(flower_bunch,pile)\n",
        "# print('*end  pile*',pile)"
      ],
      "execution_count": null,
      "outputs": [
        {
          "output_type": "stream",
          "text": [
            "ALa10b15c5\n",
            "ASa15b10\n",
            "BLa5b15c1\n",
            "BSa1b10c5\n",
            "CLa30c15\n",
            "DLa8b20\n",
            "ALa10b15c5\n",
            "ASa15b10\n",
            "BLa5b15c1\n",
            "BSa1b10c5\n",
            "CLa30c15\n",
            "DLa8b20\n",
            "ALa10b15c5\n",
            "ASa15b10\n",
            "BSa1b10c5\n",
            "CLa30c15\n",
            "ASa15b10\n",
            "BSa1b10c5\n",
            "CLa30c15\n",
            "ASa15b10\n",
            "BSa1b10c5\n",
            "CLa30c15\n",
            "ASa15b10\n",
            "BSa1b10c5\n",
            "CLa30c15\n",
            "ASa15b10\n",
            "BSa1b10c5\n",
            "ASa15b10\n"
          ],
          "name": "stdout"
        }
      ]
    },
    {
      "cell_type": "code",
      "metadata": {
        "id": "Wvg9tsrg3xuc",
        "colab_type": "code",
        "colab": {}
      },
      "source": [
        ""
      ],
      "execution_count": null,
      "outputs": []
    }
  ]
}